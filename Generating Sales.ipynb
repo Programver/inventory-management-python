{
 "cells": [
  {
   "cell_type": "code",
   "execution_count": 9,
   "id": "3e60d8ba-d2d0-47af-8dd1-e2c8c3e60eca",
   "metadata": {},
   "outputs": [
    {
     "name": "stdout",
     "output_type": "stream",
     "text": [
      "['1, Chocolate, 5, 100', '2, Milky Bar, 10,50', '3, Cake, 300,5', '4, Candy, 1, 200']\n"
     ]
    }
   ],
   "source": [
    "import time\n",
    "fd = open('Inventory.txt','r')  \n",
    "products = fd.read().split('\\n')\n",
    "print(products)\n",
    "fd.close()"
   ]
  },
  {
   "cell_type": "code",
   "execution_count": 10,
   "id": "1b39cb6a-f9bf-4d8e-aef7-2a39af82e62e",
   "metadata": {},
   "outputs": [
    {
     "name": "stdin",
     "output_type": "stream",
     "text": [
      "Enter your Name:  abcd\n",
      "Enter your Phone No:  12345\n",
      "Enter your Mail:  qwer@gmail.com\n",
      "Enter product ID:  2\n",
      "Enter product Quantity:  60\n"
     ]
    }
   ],
   "source": [
    "# Taking User Input\n",
    "ui_username = input(\"Enter your Name: \")\n",
    "ui_phone    = input(\"Enter your Phone No: \")\n",
    "ui_mail     = input(\"Enter your Mail: \")\n",
    "ui_prod_id  = input(\"Enter product ID: \")\n",
    "ui_prod_qn  = input(\"Enter product Quantity: \")"
   ]
  },
  {
   "cell_type": "code",
   "execution_count": 11,
   "id": "dbcfb8fb-b49e-4366-8fb1-907119288116",
   "metadata": {},
   "outputs": [
    {
     "name": "stdout",
     "output_type": "stream",
     "text": [
      "Sorry, We're not having enough quantity.\n",
      "We're having only 50 quantity.\n",
      "Would you like to purchase it?\n"
     ]
    },
    {
     "name": "stdin",
     "output_type": "stream",
     "text": [
      "Press Y/N:  y\n"
     ]
    },
    {
     "name": "stdout",
     "output_type": "stream",
     "text": [
      "-----------------------------\n",
      "Product Name     :   Milky Bar\n",
      "Price            :   10\n",
      "Quantity         :  50\n",
      "-----------------------------\n",
      "Billing Amount   :  500\n",
      "-----------------------------\n"
     ]
    }
   ],
   "source": [
    "updated_product_lst = []\n",
    "\n",
    "for product in products:\n",
    "    \n",
    "    prod_details = product.split(',')\n",
    "\n",
    "    if(prod_details[0] == ui_prod_id):\n",
    "        \n",
    "        if (int(ui_prod_qn) <= int(prod_details[3])):  \n",
    "            print(\"-----------------------------\")\n",
    "            print(\"Product Name     : \", prod_details[1])\n",
    "            print(\"Price            : \", prod_details[2]) \n",
    "            print(\"Quantity         : \", ui_prod_qn) \n",
    "            print(\"-----------------------------\")\n",
    "            print(\"Billing Amount   : \", int(ui_prod_qn) * int(prod_details[2]))\n",
    "            print(\"-----------------------------\")\n",
    "\n",
    "            prod_details[3] = str(int(prod_details[3]) - int(ui_prod_qn))\n",
    "            \n",
    "            fd = open(\"Sales.txt\",'a')\n",
    "            sales_detail = ui_username +\",\"+ ui_phone +\",\"+ ui_mail +\",\"+ prod_details[1] +\",\"+ ui_prod_id +\",\"+ ui_prod_qn +\",\"+ str(int(ui_prod_qn) * int(prod_details[2]))+\",\"+ time.ctime()+ \"\\n\"\n",
    "            fd.write(sales_detail)\n",
    "            fd.close()\n",
    "        else:\n",
    "            print(\"Sorry, We're not having enough quantity.\")\n",
    "            print(\"We're having only\", prod_details[3], 'quantity.')\n",
    "            print(\"Would you like to purchase it?\")\n",
    "            \n",
    "            ch = input(\"Press Y/N: \")\n",
    "            \n",
    "            if (ch == 'Y' or ch == 'y'):  # If customer agrees to buy available stock\n",
    "                print(\"-----------------------------\")\n",
    "                print(\"Product Name     : \", prod_details[1])\n",
    "                print(\"Price            : \", prod_details[2]) \n",
    "                print(\"Quantity         : \", prod_details[3]) \n",
    "                print(\"-----------------------------\")\n",
    "                print(\"Billing Amount   : \", int(prod_details[3]) * int(prod_details[2]))\n",
    "                print(\"-----------------------------\")\n",
    "\n",
    "                  # Marking product as out of stock            \n",
    "\n",
    "                fd = open(\"Sales.txt\",'a')\n",
    "                sales_detail = ui_username +\",\"+ ui_phone +\",\"+ ui_mail +\",\"+ prod_details[1] +\",\"+ ui_prod_id +\",\"+ prod_details[3] +\",\"+ str(int(prod_details[3]) * int(prod_details[2]))+\",\"+ time.ctime()+ \"\\n\"\n",
    "                fd.write(sales_detail)\n",
    "                fd.close()\n",
    "                # Updating Inventory list\n",
    "                prod_details[3] = '0'\n",
    "    updated_product_lst.append(prod_details)                \n",
    "            "
   ]
  },
  {
   "cell_type": "code",
   "execution_count": 12,
   "id": "8fac4d84-20f5-4697-a066-62df3f8816f1",
   "metadata": {},
   "outputs": [
    {
     "name": "stdout",
     "output_type": "stream",
     "text": [
      "-------------------\n",
      "Inventory Updated\n"
     ]
    }
   ],
   "source": [
    "lst = []\n",
    "\n",
    "for i in updated_product_lst:\n",
    "    prod = i[0] +\",\"+  i[1] +\",\"+ i[2] +\",\"+ i[3] + '\\n'\n",
    "    lst.append(prod)\n",
    "\n",
    "lst[-1] = lst[-1][:-1]  # Remove last newline character\n",
    "\n",
    "# Writing Updated Inventory to File\n",
    "fd = open('Inventory.txt','w')\n",
    "\n",
    "for i in lst:\n",
    "    fd.write(i)\n",
    "\n",
    "fd.close()\n",
    "\n",
    "print(\"-------------------\")\n",
    "print(\"Inventory Updated\")"
   ]
  },
  {
   "cell_type": "code",
   "execution_count": null,
   "id": "8227bcc3-ff4c-4571-9dbe-1c322f6dc255",
   "metadata": {},
   "outputs": [],
   "source": []
  }
 ],
 "metadata": {
  "kernelspec": {
   "display_name": "Python [conda env:base] *",
   "language": "python",
   "name": "conda-base-py"
  },
  "language_info": {
   "codemirror_mode": {
    "name": "ipython",
    "version": 3
   },
   "file_extension": ".py",
   "mimetype": "text/x-python",
   "name": "python",
   "nbconvert_exporter": "python",
   "pygments_lexer": "ipython3",
   "version": "3.11.7"
  }
 },
 "nbformat": 4,
 "nbformat_minor": 5
}
